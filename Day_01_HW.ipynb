import numpy as np
data = np.arange(1, 21, 1)
print(data)

import numpy as np
data = np.arange(1, 21, 2)
print(data)

import numpy as np
data = np.arange(2, 21, 2)
print(data)